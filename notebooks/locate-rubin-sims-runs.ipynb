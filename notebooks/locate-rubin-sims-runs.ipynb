{
 "cells": [
  {
   "cell_type": "markdown",
   "id": "2980a2b9",
   "metadata": {},
   "source": [
    "# Locating Rubin OpSim Runs on the LINCC Hub"
   ]
  },
  {
   "cell_type": "markdown",
   "id": "44a07d9b",
   "metadata": {},
   "source": [
    "The location is stored in the `$OPSIM_DB_DIR` environmental variable. This variable is available from within the 'Rubin Sim' kernels:"
   ]
  },
  {
   "cell_type": "code",
   "execution_count": 1,
   "id": "8d096f40",
   "metadata": {},
   "outputs": [
    {
     "name": "stdout",
     "output_type": "stream",
     "text": [
      "/lincc/shared/rubin_opsims\r\n"
     ]
    }
   ],
   "source": [
    "! echo $OPSIM_DB_DIR"
   ]
  },
  {
   "cell_type": "markdown",
   "id": "d0b84349",
   "metadata": {},
   "source": [
    "This directory should hold all available OpSim runs. Here's a snippet of code demonstrating how to access the runs (and testing that all are available):"
   ]
  },
  {
   "cell_type": "code",
   "execution_count": 3,
   "id": "8aee14c4",
   "metadata": {},
   "outputs": [
    {
     "name": "stdout",
     "output_type": "stream",
     "text": [
      "Number of runs known to MAF: 265\n",
      "Number of runs available:    265\n"
     ]
    }
   ],
   "source": [
    "import os\n",
    "import rubin_sim.maf as maf\n",
    "\n",
    "runs = maf.get_runs()\n",
    "rootdir = os.environ['OPSIM_DB_DIR']\n",
    "\n",
    "ntotal, nfound = len(runs), 0\n",
    "for name, row in runs.iterrows():\n",
    "    fn = os.path.join(rootdir, row['filepath'])\n",
    "\n",
    "    found = os.path.isfile(fn)\n",
    "    nfound += found\n",
    "\n",
    "    if not found:\n",
    "        print(f\"**** NOT FOUND {name}\")\n",
    "\n",
    "print(f\"Number of runs known to MAF: {ntotal}\")\n",
    "print(f\"Number of runs available:    {nfound}\")"
   ]
  }
 ],
 "metadata": {
  "kernelspec": {
   "display_name": "Rubin Sim (2022-05-16)",
   "language": "python",
   "name": "python3-sims-20220516"
  },
  "language_info": {
   "codemirror_mode": {
    "name": "ipython",
    "version": 3
   },
   "file_extension": ".py",
   "mimetype": "text/x-python",
   "name": "python",
   "nbconvert_exporter": "python",
   "pygments_lexer": "ipython3",
   "version": "3.9.12"
  }
 },
 "nbformat": 4,
 "nbformat_minor": 5
}
